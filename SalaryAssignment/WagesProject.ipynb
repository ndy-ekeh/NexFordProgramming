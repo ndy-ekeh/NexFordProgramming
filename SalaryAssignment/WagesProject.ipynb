{
 "cells": [
  {
   "cell_type": "code",
   "execution_count": 1,
   "id": "7ae37e82-23ab-42e5-87d9-0b17797a0ddd",
   "metadata": {},
   "outputs": [
    {
     "name": "stdout",
     "output_type": "stream",
     "text": [
      "Data Imported Successfully\n"
     ]
    },
    {
     "data": {
      "text/html": [
       "<div>\n",
       "<style scoped>\n",
       "    .dataframe tbody tr th:only-of-type {\n",
       "        vertical-align: middle;\n",
       "    }\n",
       "\n",
       "    .dataframe tbody tr th {\n",
       "        vertical-align: top;\n",
       "    }\n",
       "\n",
       "    .dataframe thead th {\n",
       "        text-align: right;\n",
       "    }\n",
       "</style>\n",
       "<table border=\"1\" class=\"dataframe\">\n",
       "  <thead>\n",
       "    <tr style=\"text-align: right;\">\n",
       "      <th></th>\n",
       "      <th>EmployeeName</th>\n",
       "      <th>JobTitle</th>\n",
       "      <th>BasePay</th>\n",
       "      <th>OvertimePay</th>\n",
       "      <th>OtherPay</th>\n",
       "      <th>Benefits</th>\n",
       "      <th>TotalPay</th>\n",
       "      <th>TotalPayBenefits</th>\n",
       "      <th>Year</th>\n",
       "    </tr>\n",
       "  </thead>\n",
       "  <tbody>\n",
       "    <tr>\n",
       "      <th>0</th>\n",
       "      <td>NATHANIEL FORD</td>\n",
       "      <td>GENERAL MANAGER-METROPOLITAN TRANSIT AUTHORITY</td>\n",
       "      <td>167411.18</td>\n",
       "      <td>0.00</td>\n",
       "      <td>400184.25</td>\n",
       "      <td>Not Provided</td>\n",
       "      <td>567595.43</td>\n",
       "      <td>567595.43</td>\n",
       "      <td>2011</td>\n",
       "    </tr>\n",
       "    <tr>\n",
       "      <th>1</th>\n",
       "      <td>GARY JIMENEZ</td>\n",
       "      <td>CAPTAIN III (POLICE DEPARTMENT)</td>\n",
       "      <td>155966.02</td>\n",
       "      <td>245131.88</td>\n",
       "      <td>137811.38</td>\n",
       "      <td>Not Provided</td>\n",
       "      <td>538909.28</td>\n",
       "      <td>538909.28</td>\n",
       "      <td>2011</td>\n",
       "    </tr>\n",
       "    <tr>\n",
       "      <th>2</th>\n",
       "      <td>ALBERT PARDINI</td>\n",
       "      <td>CAPTAIN III (POLICE DEPARTMENT)</td>\n",
       "      <td>212739.13</td>\n",
       "      <td>106088.18</td>\n",
       "      <td>16452.60</td>\n",
       "      <td>Not Provided</td>\n",
       "      <td>335279.91</td>\n",
       "      <td>335279.91</td>\n",
       "      <td>2011</td>\n",
       "    </tr>\n",
       "    <tr>\n",
       "      <th>3</th>\n",
       "      <td>CHRISTOPHER CHONG</td>\n",
       "      <td>WIRE ROPE CABLE MAINTENANCE MECHANIC</td>\n",
       "      <td>77916.00</td>\n",
       "      <td>56120.71</td>\n",
       "      <td>198306.90</td>\n",
       "      <td>Not Provided</td>\n",
       "      <td>332343.61</td>\n",
       "      <td>332343.61</td>\n",
       "      <td>2011</td>\n",
       "    </tr>\n",
       "    <tr>\n",
       "      <th>4</th>\n",
       "      <td>PATRICK GARDNER</td>\n",
       "      <td>DEPUTY CHIEF OF DEPARTMENT,(FIRE DEPARTMENT)</td>\n",
       "      <td>134401.60</td>\n",
       "      <td>9737.00</td>\n",
       "      <td>182234.59</td>\n",
       "      <td>Not Provided</td>\n",
       "      <td>326373.19</td>\n",
       "      <td>326373.19</td>\n",
       "      <td>2011</td>\n",
       "    </tr>\n",
       "  </tbody>\n",
       "</table>\n",
       "</div>"
      ],
      "text/plain": [
       "        EmployeeName                                        JobTitle  \\\n",
       "0     NATHANIEL FORD  GENERAL MANAGER-METROPOLITAN TRANSIT AUTHORITY   \n",
       "1       GARY JIMENEZ                 CAPTAIN III (POLICE DEPARTMENT)   \n",
       "2     ALBERT PARDINI                 CAPTAIN III (POLICE DEPARTMENT)   \n",
       "3  CHRISTOPHER CHONG            WIRE ROPE CABLE MAINTENANCE MECHANIC   \n",
       "4    PATRICK GARDNER    DEPUTY CHIEF OF DEPARTMENT,(FIRE DEPARTMENT)   \n",
       "\n",
       "     BasePay OvertimePay   OtherPay      Benefits   TotalPay  \\\n",
       "0  167411.18        0.00  400184.25  Not Provided  567595.43   \n",
       "1  155966.02   245131.88  137811.38  Not Provided  538909.28   \n",
       "2  212739.13   106088.18   16452.60  Not Provided  335279.91   \n",
       "3   77916.00    56120.71  198306.90  Not Provided  332343.61   \n",
       "4  134401.60     9737.00  182234.59  Not Provided  326373.19   \n",
       "\n",
       "   TotalPayBenefits  Year  \n",
       "0         567595.43  2011  \n",
       "1         538909.28  2011  \n",
       "2         335279.91  2011  \n",
       "3         332343.61  2011  \n",
       "4         326373.19  2011  "
      ]
     },
     "metadata": {},
     "output_type": "display_data"
    }
   ],
   "source": [
    "import pandas as pd\n",
    "try:\n",
    "    wagesloadData = pd.read_csv(\"/Users/ndubisiekeh/Downloads/Total.csv\", low_memory=False)\n",
    "    print(\"Data Imported Successfully\")\n",
    "    display(wagesloadData.head())\n",
    "except Exception as e:\n",
    "    print(f\"Error loading data: {e}\")"
   ]
  },
  {
   "cell_type": "code",
   "execution_count": 2,
   "id": "a88684f3-e4ab-4fc0-b260-0e4f5e940b5e",
   "metadata": {},
   "outputs": [],
   "source": [
    "def get_employeeInfo(empname):\n",
    "    try:\n",
    "        employee = wagesloadData[wagesloadData['EmployeeName'].str.lower() == empname.lower()]\n",
    "        if employee.empty:\n",
    "            return f\"No employee found with name: {empname}\"\n",
    "        return employee.to_dict(orient='records')[0]\n",
    "    except Exception as e:\n",
    "        return f\"Error retrieving employee: {e}\""
   ]
  },
  {
   "cell_type": "code",
   "execution_count": 3,
   "id": "376af522-45d0-4f33-8220-138dbf0e473f",
   "metadata": {},
   "outputs": [
    {
     "name": "stdout",
     "output_type": "stream",
     "text": [
      "Dictionary Created Successfully\n"
     ]
    }
   ],
   "source": [
    "try:\n",
    "    employee_salary_dict = pd.Series(wagesloadData['TotalPay'].values, index=wagesloadData['EmployeeName']).to_dict()\n",
    "    print(\"Dictionary Created Successfully\")\n",
    "except Exception as e:\n",
    "    print(f\"Error creating dictionary: {e}\")"
   ]
  },
  {
   "cell_type": "code",
   "execution_count": 4,
   "id": "66968e54-8767-41b5-807e-944a660d58ca",
   "metadata": {},
   "outputs": [],
   "source": [
    "import csv\n",
    "import os\n",
    "import zipfile\n",
    "\n",
    "def exportemployeeDetails(employeeName):\n",
    "    details = get_employeeInfo(employeeName)\n",
    "    \n",
    "    if isinstance(details, str):\n",
    "        print(details)\n",
    "        return\n",
    "    \n",
    "    folder_name = 'Staff_Data'\n",
    "    csv_file = f\"{employeeName.replace(' ', '_')}_Data.csv\"\n",
    "    zip_file = 'Staff_Data.zip'\n",
    "    \n",
    "    os.makedirs(folder_name, exist_ok=True)\n",
    "\n",
    "    csv_path = os.path.join(folder_name, csv_file)\n",
    "    with open(csv_path, 'w', newline='') as file:\n",
    "        writer = csv.DictWriter(file, fieldnames=details.keys())\n",
    "        writer.writeheader()\n",
    "        writer.writerow(details)\n",
    "    \n",
    "    # this helps zip's folder\n",
    "    with zipfile.ZipFile(zip_file, 'w') as zipf:\n",
    "        zipf.write(csv_path, arcname=os.path.join(folder_name, csv_file))\n",
    "    \n",
    "    print(f\"Exported and zipped to {zip_file}\")\n"
   ]
  },
  {
   "cell_type": "code",
   "execution_count": 5,
   "id": "682df062-685f-4a5d-81d4-39d7e3539146",
   "metadata": {},
   "outputs": [
    {
     "name": "stdout",
     "output_type": "stream",
     "text": [
      "Requirement already satisfied: rpy2 in ./anaconda3/lib/python3.11/site-packages (3.6.1)\n",
      "Requirement already satisfied: rpy2-rinterface>=3.6.1 in ./anaconda3/lib/python3.11/site-packages (from rpy2) (3.6.1)\n",
      "Requirement already satisfied: rpy2-robjects>=3.6.1 in ./anaconda3/lib/python3.11/site-packages (from rpy2) (3.6.1)\n",
      "Requirement already satisfied: cffi>=1.15.1 in ./anaconda3/lib/python3.11/site-packages (from rpy2-rinterface>=3.6.1->rpy2) (1.15.1)\n",
      "Requirement already satisfied: jinja2 in ./anaconda3/lib/python3.11/site-packages (from rpy2-robjects>=3.6.1->rpy2) (3.1.2)\n",
      "Requirement already satisfied: tzlocal in ./anaconda3/lib/python3.11/site-packages (from rpy2-robjects>=3.6.1->rpy2) (5.3.1)\n",
      "Requirement already satisfied: pycparser in ./anaconda3/lib/python3.11/site-packages (from cffi>=1.15.1->rpy2-rinterface>=3.6.1->rpy2) (2.21)\n",
      "Requirement already satisfied: MarkupSafe>=2.0 in ./anaconda3/lib/python3.11/site-packages (from jinja2->rpy2-robjects>=3.6.1->rpy2) (2.1.1)\n",
      "Note: you may need to restart the kernel to use updated packages.\n"
     ]
    }
   ],
   "source": [
    "pip install --upgrade rpy2"
   ]
  },
  {
   "cell_type": "code",
   "execution_count": 10,
   "id": "0bbf1c49-e746-48ea-a120-50cc0a4e6d84",
   "metadata": {},
   "outputs": [
    {
     "name": "stderr",
     "output_type": "stream",
     "text": [
      "Error importing in API mode: ImportError(\"dlopen(/Users/ndubisiekeh/anaconda3/lib/python3.11/site-packages/_rinterface_cffi_api.abi3.so, 0x0002): symbol not found in flat namespace '_R_BaseEnv'\")\n",
      "Trying to import in ABI mode.\n",
      "/Users/ndubisiekeh/anaconda3/lib/python3.11/site-packages/rpy2/rinterface/__init__.py:1211: UserWarning: Environment variable \"R_SESSION_TMPDIR\" redefined by R and overriding existing variable. Current: \"/var/folders/qd/k02pc6695cbfgd26w32jfnkm0000gn/T//RtmpMgGTuL\", R: \"/var/folders/qd/k02pc6695cbfgd26w32jfnkm0000gn/T//RtmptP7McQ\"\n",
      "  warnings.warn(\n"
     ]
    }
   ],
   "source": [
    "%load_ext rpy2.ipython"
   ]
  },
  {
   "cell_type": "code",
   "execution_count": 11,
   "id": "c1e4f1b4-5ca8-406c-95b6-857033a69019",
   "metadata": {},
   "outputs": [],
   "source": [
    "import os\n",
    "import rpy2"
   ]
  },
  {
   "cell_type": "code",
   "execution_count": 12,
   "id": "22286115-31a3-4c4a-8bd2-2932f739821c",
   "metadata": {},
   "outputs": [
    {
     "ename": "SyntaxError",
     "evalue": "expression cannot contain assignment, perhaps you meant \"==\"? (2170846223.py, line 8)",
     "output_type": "error",
     "traceback": [
      "\u001b[0;36m  Cell \u001b[0;32mIn[12], line 8\u001b[0;36m\u001b[0m\n\u001b[0;31m    csv_files <- list.files(\"./unzipped_profile/Staff_Data\", full.names = TRUE)\u001b[0m\n\u001b[0m                                                             ^\u001b[0m\n\u001b[0;31mSyntaxError\u001b[0m\u001b[0;31m:\u001b[0m expression cannot contain assignment, perhaps you meant \"==\"?\n"
     ]
    }
   ],
   "source": [
    "library(readr)\n",
    "library(utils)\n",
    "\n",
    "# Unzip the folder\n",
    "unzip(\"Staff_Data.zip\", exdir = \"./unzipped_profile\")\n",
    "\n",
    "# Read CSV file\n",
    "csv_files <- list.files(\"./unzipped_profile/Staff_Data\", full.names = TRUE)\n",
    "employee_data <- read_csv(csv_files[1])\n",
    "\n",
    "# Display the data\n",
    "print(employee_data)"
   ]
  },
  {
   "cell_type": "code",
   "execution_count": null,
   "id": "8a2bd357-91a6-45ba-a375-2a2061e05319",
   "metadata": {},
   "outputs": [],
   "source": []
  }
 ],
 "metadata": {
  "kernelspec": {
   "display_name": "Python [conda env:base] *",
   "language": "python",
   "name": "conda-base-py"
  },
  "language_info": {
   "codemirror_mode": {
    "name": "ipython",
    "version": 3
   },
   "file_extension": ".py",
   "mimetype": "text/x-python",
   "name": "python",
   "nbconvert_exporter": "python",
   "pygments_lexer": "ipython3",
   "version": "3.11.5"
  }
 },
 "nbformat": 4,
 "nbformat_minor": 5
}
